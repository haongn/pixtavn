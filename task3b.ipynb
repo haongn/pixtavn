{
 "cells": [
  {
   "cell_type": "markdown",
   "metadata": {},
   "source": [
    "# Pytorch Lightning"
   ]
  },
  {
   "cell_type": "markdown",
   "metadata": {},
   "source": [
    "### 0. Import libs and Config"
   ]
  },
  {
   "cell_type": "code",
   "execution_count": 4,
   "metadata": {},
   "outputs": [],
   "source": [
    "import torch\n",
    "import torch.nn as nn\n",
    "import torch.optim as optim\n",
    "from torch.utils.data import Dataset, DataLoader\n",
    "import torch.nn.functional as F\n",
    "import torchvision\n",
    "from torchvision import transforms, models\n",
    "import numpy as np\n",
    "import matplotlib.pyplot as plt\n",
    "import pandas as pd\n",
    "import seaborn as sns\n",
    "import pytorch_lightning as pl\n",
    "from pytorch_lightning.loggers import TensorBoardLogger\n",
    "from pytorch_lightning.callbacks import EarlyStopping, ModelCheckpoint\n",
    "\n",
    "import os\n",
    "import time\n",
    "import pickle\n",
    "import math\n",
    "import itertools\n",
    "import copy"
   ]
  },
  {
   "cell_type": "code",
   "execution_count": 5,
   "metadata": {},
   "outputs": [],
   "source": [
    "# Device config\n",
    "device = torch.device('cuda:1' if torch.cuda.is_available() else 'cpu')\n",
    "\n",
    "# Hyper params\n",
    "batch_size = 32\n",
    "num_epochs = 50\n",
    "learning_rate = 0.001\n",
    "momentum = 0.9\n",
    "\n",
    "\n",
    "# Random seed\n",
    "seed = 2022\n",
    "torch.random.manual_seed(seed)\n",
    "np.random.seed(2022)\n",
    "\n",
    "# Path\n",
    "# Data directory\n",
    "data_dir = './data/pascal_2007'\n",
    "if not os.path.exists(data_dir):\n",
    "    os.mkdir(data_dir)\n",
    "    \n",
    "# Save directory\n",
    "save_dir = './saved'\n",
    "if not os.path.exists(save_dir):\n",
    "    os.mkdir(save_dir)\n",
    "    \n",
    "# Labels\n",
    "labels = pickle.load(open(os.path.join(save_dir, 'labels.sav'), 'rb'))\n",
    "\n",
    "# logger\n",
    "logger = TensorBoardLogger('runs', 'lightning')"
   ]
  },
  {
   "cell_type": "markdown",
   "metadata": {},
   "source": [
    "### 1. Data Module"
   ]
  },
  {
   "cell_type": "code",
   "execution_count": 6,
   "metadata": {},
   "outputs": [],
   "source": [
    "# Define datasets\n",
    "class MultilabelsDataset(Dataset):\n",
    "    def __init__(self, images, labellists, labels, transforms=None):\n",
    "        super().__init__()\n",
    "        self.images = images\n",
    "        self.labellists = labellists\n",
    "        self.labels = labels\n",
    "        self.transforms = transforms\n",
    "        self.n_samples = len(self.images)\n",
    "    \n",
    "    # Convert str label to index\n",
    "    def toIndex(self, labellist, labels):\n",
    "        l = [self.labels.index(label) for label in labellist]\n",
    "        return l\n",
    "    \n",
    "    def __getitem__(self, index): \n",
    "        # One hot labels\n",
    "        labels_index = self.toIndex(self.labellists[index], self.labels)\n",
    "        labels_index = torch.tensor(labels_index)\n",
    "        labels_onehot = F.one_hot(labels_index, num_classes=len(self.labels))\n",
    "        labels_onehot = labels_onehot.sum(dim=0).float()\n",
    "        \n",
    "        # Transform input\n",
    "        image = self.images[index]\n",
    "        if self.transforms:\n",
    "            image = self.transforms(image)\n",
    "            \n",
    "        return image, labels_onehot\n",
    "    \n",
    "    def __len__(self):\n",
    "        return self.n_samples"
   ]
  },
  {
   "cell_type": "code",
   "execution_count": 7,
   "metadata": {},
   "outputs": [],
   "source": [
    "# Imagenet mean and std\n",
    "mean = np.array([0.485, 0.456, 0.406])\n",
    "std = np.array([0.229, 0.224, 0.225])\n",
    "\n",
    "# Data transform\n",
    "data_transform = {\n",
    "    'train': transforms.Compose([\n",
    "        transforms.ToTensor(),\n",
    "        transforms.RandomResizedCrop(224),\n",
    "        transforms.RandomHorizontalFlip(), # Random flip horizontal\n",
    "        transforms.ColorJitter(), # Random change color\n",
    "        transforms.RandomErasing(scale=(0.02, 0.08)), # Random erase a small rectangle\n",
    "        transforms.Normalize(mean, std)\n",
    "    ]),\n",
    "    \n",
    "    'val': transforms.Compose([\n",
    "        transforms.ToTensor(),\n",
    "        transforms.Resize(256),\n",
    "        transforms.CenterCrop(224),\n",
    "        transforms.Normalize(mean, std)\n",
    "    ]),\n",
    "    \n",
    "    'test': transforms.Compose([\n",
    "        transforms.ToTensor(),\n",
    "        transforms.Resize(256),\n",
    "        transforms.CenterCrop(224),\n",
    "        transforms.Normalize(mean, std)\n",
    "    ]),\n",
    "}"
   ]
  },
  {
   "cell_type": "code",
   "execution_count": 8,
   "metadata": {},
   "outputs": [],
   "source": [
    "class LitDataModule(pl.LightningDataModule):\n",
    "    def __init__(self, data_dir, save_dir, transforms, batch_size):\n",
    "        super().__init__()\n",
    "        \n",
    "        # Path\n",
    "        self.data_dir = data_dir\n",
    "        self.train_img_dir = os.path.join(self.data_dir, 'train')\n",
    "        self.test_img_dir = os.path.join(self.data_dir, 'test')\n",
    "        self.train_anno_path = os.path.join(self.data_dir, 'train.csv')\n",
    "        self.test_anno_path = os.path.join(self.data_dir, 'test.csv')\n",
    "        self.save_dir = save_dir\n",
    "        \n",
    "        # Hyper parameters\n",
    "        self.batch_size = batch_size\n",
    "        \n",
    "        # Dataset Transforms\n",
    "        self.transforms = transforms\n",
    "        \n",
    "    def setup(self, stage=None):\n",
    "        # Load data\n",
    "        print('-' * 10, 'LOAD DATA', '-' * 10)\n",
    "        (train_images, train_labels), (valid_images, valid_labels) = self.load_images_and_labels(self.train_img_dir, self.train_anno_path, True)\n",
    "        (test_images, test_labels) = self.load_images_and_labels(self.test_img_dir, self.test_anno_path, False)\n",
    "        \n",
    "        # Get labels\n",
    "        self.labels = self.get_labels(train_labels)\n",
    "        \n",
    "        # Create dataset\n",
    "        self.image_datasets = {\n",
    "            'train': MultilabelsDataset(train_images, train_labels, self.labels, data_transform['train']),\n",
    "            'val': MultilabelsDataset(valid_images, valid_labels, self.labels, data_transform['val']),\n",
    "            'test': MultilabelsDataset(test_images, test_labels, self.labels, data_transform['test'])\n",
    "        }\n",
    "    \n",
    "    # Data Loader\n",
    "    def train_dataloader(self):\n",
    "        return DataLoader(self.image_datasets['train'], num_workers=12, batch_size=self.batch_size, shuffle=True)\n",
    "    \n",
    "    def val_dataloader(self):\n",
    "        return DataLoader(self.image_datasets['val'], num_workers=12, batch_size=self.batch_size, shuffle=False)\n",
    "    \n",
    "    def test_dataloader(self):\n",
    "        return DataLoader(self.image_datasets['test'], num_workers=12, batch_size=self.batch_size, shuffle=False)\n",
    "    \n",
    "    # Get label list\n",
    "    def get_labels(self, labellists):\n",
    "        # All labels\n",
    "        labels = []\n",
    "\n",
    "        for labellist in labellists:\n",
    "            labels = labels + labellist\n",
    "            \n",
    "        labels = sorted(list(set(labels)))\n",
    "        pickle.dump(labels, open(os.path.join(self.save_dir, 'labels.sav'), 'wb'))\n",
    "        print('Number of labels: ', len(labels))\n",
    "        return labels\n",
    "    \n",
    "    # Load images and labels\n",
    "    def load_images_and_labels(self, image_dir, anno_path, is_train=True):\n",
    "        # Load anno files\n",
    "        anno = pd.read_csv(anno_path).values  \n",
    "        \n",
    "        if is_train:\n",
    "            # Train set\n",
    "            train_images = []\n",
    "            train_labellists = []\n",
    "            \n",
    "            # Valid set\n",
    "            valid_images = []\n",
    "            valid_labellists = []\n",
    "            \n",
    "            # Split train and valid set\n",
    "            train_anno = anno[~ anno[:, 2].astype(np.bool8)][:, :2]\n",
    "            valid_anno = anno[anno[:, 2].astype(np.bool8)][:, :2]\n",
    "            \n",
    "            # Load training set\n",
    "            print('Loading training set')\n",
    "            print('-'*10)\n",
    "            for filename, labellist in train_anno:\n",
    "                \n",
    "                image = plt.imread(os.path.join(image_dir, filename))\n",
    "                train_images.append(image)\n",
    "                \n",
    "                train_labellists.append(labellist.split(' '))\n",
    "            \n",
    "            # Load valid set\n",
    "            print('Loading validate set')\n",
    "            print('-'*10)\n",
    "            for filename, labellist in valid_anno:\n",
    "                \n",
    "                image = plt.imread(os.path.join(image_dir, filename))\n",
    "                valid_images.append(image)\n",
    "                \n",
    "                valid_labellists.append(labellist.split(' '))\n",
    "            \n",
    "            return (train_images, train_labellists), (valid_images, valid_labellists)\n",
    "        \n",
    "        else:\n",
    "            # Test set\n",
    "            test_images = []\n",
    "            test_labellists = []\n",
    "            \n",
    "            # Load test set\n",
    "            print('Loading test set')\n",
    "            print('-'*10)\n",
    "            for filename, labellist in anno:\n",
    "                \n",
    "                image = plt.imread(os.path.join(image_dir, filename))\n",
    "                test_images.append(image)\n",
    "                \n",
    "                test_labellists.append(labellist.split(' '))\n",
    "            \n",
    "            return (test_images, test_labellists) "
   ]
  },
  {
   "cell_type": "code",
   "execution_count": 9,
   "metadata": {},
   "outputs": [],
   "source": [
    "data_module = LitDataModule(data_dir, save_dir, transforms, batch_size)"
   ]
  },
  {
   "cell_type": "markdown",
   "metadata": {},
   "source": [
    "### 2. Model Module"
   ]
  },
  {
   "cell_type": "code",
   "execution_count": 10,
   "metadata": {},
   "outputs": [],
   "source": [
    "# define model\n",
    "class FinetunedResnet50(nn.Module):\n",
    "    def __init__(self, num_classes):\n",
    "        super().__init__()\n",
    "        self.pretrained_model = models.resnet50(pretrained=True)\n",
    "        \n",
    "        self.num_classes = num_classes\n",
    "        \n",
    "        # Finetune\n",
    "        in_features = self.pretrained_model.fc.in_features\n",
    "        self.pretrained_model.fc = nn.Linear(in_features, 128)\n",
    "        self.fc_head = nn.Linear(128, self.num_classes)\n",
    "        \n",
    "    def forward(self, x):\n",
    "        x = F.relu(self.pretrained_model(x))\n",
    "        x = torch.sigmoid(self.fc_head(x))\n",
    "        return x"
   ]
  },
  {
   "cell_type": "code",
   "execution_count": 11,
   "metadata": {},
   "outputs": [],
   "source": [
    "class LitModelModule(pl.LightningModule):\n",
    "    def __init__(\n",
    "        self, \n",
    "        num_classes, \n",
    "        learning_rate=0.001, \n",
    "        momentum=0.9, \n",
    "        lr_schedule_step=5, \n",
    "        lr_schedule_factor=0.5\n",
    "    ):\n",
    "        super().__init__()\n",
    "        self.num_classes = num_classes\n",
    "        self.model = FinetunedResnet50(num_classes)\n",
    "        \n",
    "        # Hyper parameters\n",
    "        self.learning_rate = learning_rate\n",
    "        self.criterion = nn.BCELoss()\n",
    "        self.momentum = momentum\n",
    "        self.lr_schedule_step = lr_schedule_step\n",
    "        self.lr_schedule_factor = lr_schedule_factor\n",
    "        \n",
    "    def forward(self, x):\n",
    "        x = self.model(x)\n",
    "        return x\n",
    "    \n",
    "    # Config optimizer and lr_schedule\n",
    "    def configure_optimizers(self):\n",
    "        optimizer = optim.SGD(self.parameters(), lr=self.learning_rate, momentum=self.momentum)\n",
    "        lr_scheduler = optim.lr_scheduler.StepLR(optimizer, step_size=self.lr_schedule_step, gamma=self.lr_schedule_factor)\n",
    "        return [optimizer], [lr_scheduler]\n",
    "    \n",
    "    # Config callbacks\n",
    "    def configure_callbacks(self):\n",
    "        return [\n",
    "            EarlyStopping(monitor='val/accuracy', mode='max', verbose=1, patience=10), \n",
    "            ModelCheckpoint(os.path.join(save_dir, 'checkpoints'), monitor='val/accuracy', mode='max', save_weights_only=True, verbose=1)\n",
    "        ]\n",
    "    \n",
    "    # Train, valid, test\n",
    "    def training_step(self, batch, batch_idx):\n",
    "        images, labellists = batch\n",
    "        outputs = self(images)\n",
    "        loss = self.criterion(outputs, labellists)\n",
    "        \n",
    "        preds = outputs.round()\n",
    "        num_corrects = torch.sum(preds == labellists.data, dim=0)\n",
    "        cls_accuracy = num_corrects / labellists.size(0)\n",
    "        avg_accuracy = cls_accuracy.mean() * 100\n",
    "        \n",
    "        tensorboard_log = {'acc': avg_accuracy}\n",
    "        \n",
    "        return {\n",
    "            'loss': loss,\n",
    "            'log': tensorboard_log\n",
    "        }\n",
    "    \n",
    "    def validation_step(self, batch, batch_idx):\n",
    "        images, labellists = batch\n",
    "        outputs = self(images)\n",
    "        loss = self.criterion(outputs, labellists)\n",
    "        \n",
    "        preds = outputs.round()\n",
    "        num_corrects = torch.sum(preds == labellists.data, dim=0)\n",
    "        cls_accuracy = num_corrects / labellists.size(0)\n",
    "        avg_accuracy = cls_accuracy.mean() * 100\n",
    "        \n",
    "        tensorboard_log = {'acc': avg_accuracy}\n",
    "        \n",
    "        return {\n",
    "            'loss': loss,\n",
    "            'log': tensorboard_log\n",
    "        }\n",
    "    \n",
    "    def test_step(self, batch, batch_idx):\n",
    "        images, labellists = batch\n",
    "        outputs = self(images)\n",
    "        loss = self.criterion(outputs, labellists)\n",
    "\n",
    "        preds = outputs.round()\n",
    "        num_corrects = torch.sum(preds == labellists.data, dim=0)\n",
    "        cls_accuracy = num_corrects / labellists.size(0)\n",
    "        avg_accuracy = cls_accuracy.mean() * 100\n",
    "        tensorboard_log = {'acc': avg_accuracy}\n",
    "        \n",
    "        return {\n",
    "            'loss': loss,\n",
    "            'log': tensorboard_log\n",
    "        }\n",
    "    \n",
    "    # Save and load model state\n",
    "    def state_dict(self):\n",
    "        return self.model.state_dict()\n",
    "    \n",
    "    def load_state_dict(self, state_dict):\n",
    "        self.model.load_state_dict(state_dict)"
   ]
  },
  {
   "cell_type": "code",
   "execution_count": 12,
   "metadata": {},
   "outputs": [],
   "source": [
    "model = LitModelModule(\n",
    "    num_classes=len(labels),\n",
    "    learning_rate=learning_rate,\n",
    "    momentum=momentum\n",
    ")"
   ]
  },
  {
   "cell_type": "markdown",
   "metadata": {},
   "source": [
    "### 3. Callbacks"
   ]
  },
  {
   "cell_type": "code",
   "execution_count": 13,
   "metadata": {},
   "outputs": [],
   "source": [
    "# Logging Callback\n",
    "class MyLoggingCallback(pl.callbacks.Callback):\n",
    "    def __init__(self, every_batch=100):\n",
    "        super().__init__()\n",
    "        self.every_batch = every_batch\n",
    "\n",
    "    # Train\n",
    "    def on_train_batch_end(self, trainer, pl_module, outputs, batch, batch_idx, unused=0): \n",
    "        # Calculate and log batch accuracy\n",
    "        self.log('train/loss', outputs['loss'])\n",
    "        self.log('train/accuracy', outputs['log']['acc'])\n",
    "    \n",
    "    # Valid \n",
    "    def on_validation_batch_end(self, trainer, pl_module, outputs, batch, batch_idx, unused=0): \n",
    "        # Calculate and log batch accuracy\n",
    "        self.log('val/loss', outputs['loss'])\n",
    "        self.log('val/accuracy', outputs['log']['acc'])\n",
    "        \n",
    "    \n",
    "    # Test\n",
    "    def on_test_batch_end(self, trainer, pl_module, outputs, batch, batch_idx, unused=0): \n",
    "        # Calculate and log batch accuracy\n",
    "        self.log('test/loss', outputs['loss'])\n",
    "        self.log('test/accuracy', outputs['log']['acc'])"
   ]
  },
  {
   "cell_type": "code",
   "execution_count": 14,
   "metadata": {},
   "outputs": [],
   "source": [
    "# Visualization Callback\n",
    "class MyVisualizationCallback(pl.callbacks.Callback):\n",
    "    \n",
    "    def teardown(self, trainer, pl_module, stage=None):\n",
    "        if stage:\n",
    "            if stage == 'fit':\n",
    "                pl_module.logger.experiment.add_image('filters', self.get_kernels(pl_module))\n",
    "                \n",
    "            # Visualize model    \n",
    "            sampleImg=torch.rand((32, 3, 224, 224))\n",
    "            pl_module.logger.experiment.add_graph(pl_module.model,sampleImg)\n",
    "                \n",
    "    def get_kernels(self, pl_module):\n",
    "        kernels = pl_module.model.pretrained_model.conv1.weight.detach().cpu()\n",
    "        \n",
    "        # Min max scale\n",
    "        kernels = (kernels - kernels.min()) / kernels.max()\n",
    "        filters = torchvision.utils.make_grid(kernels.clamp(0, 1))\n",
    "        return filters  "
   ]
  },
  {
   "cell_type": "markdown",
   "metadata": {},
   "source": [
    "### 4. Trainer"
   ]
  },
  {
   "cell_type": "code",
   "execution_count": 15,
   "metadata": {},
   "outputs": [
    {
     "name": "stderr",
     "output_type": "stream",
     "text": [
      "GPU available: True, used: True\n",
      "TPU available: False, using: 0 TPU cores\n",
      "IPU available: False, using: 0 IPUs\n",
      "HPU available: False, using: 0 HPUs\n",
      "The following callbacks returned in `LightningModule.configure_callbacks` will override existing callbacks passed to Trainer: ModelCheckpoint\n"
     ]
    },
    {
     "name": "stdout",
     "output_type": "stream",
     "text": [
      "---------- LOAD DATA ----------\n",
      "Loading training set\n",
      "----------\n",
      "Loading validate set\n",
      "----------\n",
      "Loading test set\n",
      "----------\n",
      "Number of labels:  20\n"
     ]
    },
    {
     "name": "stderr",
     "output_type": "stream",
     "text": [
      "LOCAL_RANK: 0 - CUDA_VISIBLE_DEVICES: [0,1,2,3]\n",
      "\n",
      "  | Name      | Type              | Params\n",
      "------------------------------------------------\n",
      "0 | model     | FinetunedResnet50 | 23.8 M\n",
      "1 | criterion | BCELoss           | 0     \n",
      "------------------------------------------------\n",
      "23.8 M    Trainable params\n",
      "0         Non-trainable params\n",
      "23.8 M    Total params\n",
      "95.092    Total estimated model params size (MB)\n"
     ]
    },
    {
     "data": {
      "application/vnd.jupyter.widget-view+json": {
       "model_id": "8890c7a5215f4d80b724bd30568f5ebd",
       "version_major": 2,
       "version_minor": 0
      },
      "text/plain": [
       "Sanity Checking: 0it [00:00, ?it/s]"
      ]
     },
     "metadata": {},
     "output_type": "display_data"
    },
    {
     "data": {
      "application/vnd.jupyter.widget-view+json": {
       "model_id": "c8924c3d5eaf4b3fa92e63d03b6abf24",
       "version_major": 2,
       "version_minor": 0
      },
      "text/plain": [
       "Training: 0it [00:00, ?it/s]"
      ]
     },
     "metadata": {},
     "output_type": "display_data"
    },
    {
     "data": {
      "application/vnd.jupyter.widget-view+json": {
       "model_id": "4a51b4ef2f964f5483503bc747eb3f80",
       "version_major": 2,
       "version_minor": 0
      },
      "text/plain": [
       "Validation: 0it [00:00, ?it/s]"
      ]
     },
     "metadata": {},
     "output_type": "display_data"
    },
    {
     "name": "stderr",
     "output_type": "stream",
     "text": [
      "Metric val/accuracy improved. New best score: 92.052\n",
      "Epoch 0, global step 79: 'val/accuracy' reached 92.05180 (best 92.05180), saving model to '/home/anhtranthe/workspace/3_pytorch/saved/checkpoints/epoch=0-step=79.ckpt' as top 1\n"
     ]
    },
    {
     "data": {
      "application/vnd.jupyter.widget-view+json": {
       "model_id": "1af8fb7b460c49a9bb52f4a6d655fb8b",
       "version_major": 2,
       "version_minor": 0
      },
      "text/plain": [
       "Validation: 0it [00:00, ?it/s]"
      ]
     },
     "metadata": {},
     "output_type": "display_data"
    },
    {
     "name": "stderr",
     "output_type": "stream",
     "text": [
      "Metric val/accuracy improved by 0.185 >= min_delta = 0.0. New best score: 92.237\n",
      "Epoch 1, global step 158: 'val/accuracy' reached 92.23705 (best 92.23705), saving model to '/home/anhtranthe/workspace/3_pytorch/saved/checkpoints/epoch=1-step=158.ckpt' as top 1\n"
     ]
    },
    {
     "data": {
      "application/vnd.jupyter.widget-view+json": {
       "model_id": "f419464a88d5424098468d27820124e8",
       "version_major": 2,
       "version_minor": 0
      },
      "text/plain": [
       "Validation: 0it [00:00, ?it/s]"
      ]
     },
     "metadata": {},
     "output_type": "display_data"
    },
    {
     "name": "stderr",
     "output_type": "stream",
     "text": [
      "Metric val/accuracy improved by 0.014 >= min_delta = 0.0. New best score: 92.251\n",
      "Epoch 2, global step 237: 'val/accuracy' reached 92.25100 (best 92.25100), saving model to '/home/anhtranthe/workspace/3_pytorch/saved/checkpoints/epoch=2-step=237.ckpt' as top 1\n"
     ]
    },
    {
     "data": {
      "application/vnd.jupyter.widget-view+json": {
       "model_id": "eb75386344b54a85ad0acd72a1fccffc",
       "version_major": 2,
       "version_minor": 0
      },
      "text/plain": [
       "Validation: 0it [00:00, ?it/s]"
      ]
     },
     "metadata": {},
     "output_type": "display_data"
    },
    {
     "name": "stderr",
     "output_type": "stream",
     "text": [
      "Metric val/accuracy improved by 0.032 >= min_delta = 0.0. New best score: 92.283\n",
      "Epoch 3, global step 316: 'val/accuracy' reached 92.28287 (best 92.28287), saving model to '/home/anhtranthe/workspace/3_pytorch/saved/checkpoints/epoch=3-step=316.ckpt' as top 1\n"
     ]
    },
    {
     "data": {
      "application/vnd.jupyter.widget-view+json": {
       "model_id": "01f194cb7f4a495b816cc75f2ea89919",
       "version_major": 2,
       "version_minor": 0
      },
      "text/plain": [
       "Validation: 0it [00:00, ?it/s]"
      ]
     },
     "metadata": {},
     "output_type": "display_data"
    },
    {
     "name": "stderr",
     "output_type": "stream",
     "text": [
      "Metric val/accuracy improved by 0.145 >= min_delta = 0.0. New best score: 92.428\n",
      "Epoch 4, global step 395: 'val/accuracy' reached 92.42828 (best 92.42828), saving model to '/home/anhtranthe/workspace/3_pytorch/saved/checkpoints/epoch=4-step=395.ckpt' as top 1\n"
     ]
    },
    {
     "data": {
      "application/vnd.jupyter.widget-view+json": {
       "model_id": "c98305418c65494ca0409ac8a34e5326",
       "version_major": 2,
       "version_minor": 0
      },
      "text/plain": [
       "Validation: 0it [00:00, ?it/s]"
      ]
     },
     "metadata": {},
     "output_type": "display_data"
    },
    {
     "name": "stderr",
     "output_type": "stream",
     "text": [
      "Metric val/accuracy improved by 0.253 >= min_delta = 0.0. New best score: 92.681\n",
      "Epoch 5, global step 474: 'val/accuracy' reached 92.68127 (best 92.68127), saving model to '/home/anhtranthe/workspace/3_pytorch/saved/checkpoints/epoch=5-step=474.ckpt' as top 1\n"
     ]
    },
    {
     "data": {
      "application/vnd.jupyter.widget-view+json": {
       "model_id": "ae5f537e6a6e40d7ac24ae04373dece0",
       "version_major": 2,
       "version_minor": 0
      },
      "text/plain": [
       "Validation: 0it [00:00, ?it/s]"
      ]
     },
     "metadata": {},
     "output_type": "display_data"
    },
    {
     "name": "stderr",
     "output_type": "stream",
     "text": [
      "Epoch 6, global step 553: 'val/accuracy' was not in top 1\n"
     ]
    },
    {
     "data": {
      "application/vnd.jupyter.widget-view+json": {
       "model_id": "17b527bdb52145c48fcdf130a939bab4",
       "version_major": 2,
       "version_minor": 0
      },
      "text/plain": [
       "Validation: 0it [00:00, ?it/s]"
      ]
     },
     "metadata": {},
     "output_type": "display_data"
    },
    {
     "name": "stderr",
     "output_type": "stream",
     "text": [
      "Metric val/accuracy improved by 0.122 >= min_delta = 0.0. New best score: 92.803\n",
      "Epoch 7, global step 632: 'val/accuracy' reached 92.80279 (best 92.80279), saving model to '/home/anhtranthe/workspace/3_pytorch/saved/checkpoints/epoch=7-step=632.ckpt' as top 1\n"
     ]
    },
    {
     "data": {
      "application/vnd.jupyter.widget-view+json": {
       "model_id": "ed159ceaa9f844949451166eae50e0fe",
       "version_major": 2,
       "version_minor": 0
      },
      "text/plain": [
       "Validation: 0it [00:00, ?it/s]"
      ]
     },
     "metadata": {},
     "output_type": "display_data"
    },
    {
     "name": "stderr",
     "output_type": "stream",
     "text": [
      "Metric val/accuracy improved by 0.078 >= min_delta = 0.0. New best score: 92.880\n",
      "Epoch 8, global step 711: 'val/accuracy' reached 92.88048 (best 92.88048), saving model to '/home/anhtranthe/workspace/3_pytorch/saved/checkpoints/epoch=8-step=711.ckpt' as top 1\n"
     ]
    },
    {
     "data": {
      "application/vnd.jupyter.widget-view+json": {
       "model_id": "d8c63f27bd104efba8d74e9288afb7f5",
       "version_major": 2,
       "version_minor": 0
      },
      "text/plain": [
       "Validation: 0it [00:00, ?it/s]"
      ]
     },
     "metadata": {},
     "output_type": "display_data"
    },
    {
     "name": "stderr",
     "output_type": "stream",
     "text": [
      "Metric val/accuracy improved by 0.056 >= min_delta = 0.0. New best score: 92.936\n",
      "Epoch 9, global step 790: 'val/accuracy' reached 92.93626 (best 92.93626), saving model to '/home/anhtranthe/workspace/3_pytorch/saved/checkpoints/epoch=9-step=790.ckpt' as top 1\n"
     ]
    },
    {
     "data": {
      "application/vnd.jupyter.widget-view+json": {
       "model_id": "d1a2d89b62a3487d9e952f8a7a5d177c",
       "version_major": 2,
       "version_minor": 0
      },
      "text/plain": [
       "Validation: 0it [00:00, ?it/s]"
      ]
     },
     "metadata": {},
     "output_type": "display_data"
    },
    {
     "name": "stderr",
     "output_type": "stream",
     "text": [
      "Metric val/accuracy improved by 0.028 >= min_delta = 0.0. New best score: 92.964\n",
      "Epoch 10, global step 869: 'val/accuracy' reached 92.96414 (best 92.96414), saving model to '/home/anhtranthe/workspace/3_pytorch/saved/checkpoints/epoch=10-step=869.ckpt' as top 1\n"
     ]
    },
    {
     "data": {
      "application/vnd.jupyter.widget-view+json": {
       "model_id": "28eea6155ac242d4aa61dedf920e4107",
       "version_major": 2,
       "version_minor": 0
      },
      "text/plain": [
       "Validation: 0it [00:00, ?it/s]"
      ]
     },
     "metadata": {},
     "output_type": "display_data"
    },
    {
     "name": "stderr",
     "output_type": "stream",
     "text": [
      "Metric val/accuracy improved by 0.066 >= min_delta = 0.0. New best score: 93.030\n",
      "Epoch 11, global step 948: 'val/accuracy' reached 93.02988 (best 93.02988), saving model to '/home/anhtranthe/workspace/3_pytorch/saved/checkpoints/epoch=11-step=948.ckpt' as top 1\n"
     ]
    },
    {
     "data": {
      "application/vnd.jupyter.widget-view+json": {
       "model_id": "94e6121d94a34132b3a88a708e689804",
       "version_major": 2,
       "version_minor": 0
      },
      "text/plain": [
       "Validation: 0it [00:00, ?it/s]"
      ]
     },
     "metadata": {},
     "output_type": "display_data"
    },
    {
     "name": "stderr",
     "output_type": "stream",
     "text": [
      "Metric val/accuracy improved by 0.074 >= min_delta = 0.0. New best score: 93.104\n",
      "Epoch 12, global step 1027: 'val/accuracy' reached 93.10358 (best 93.10358), saving model to '/home/anhtranthe/workspace/3_pytorch/saved/checkpoints/epoch=12-step=1027.ckpt' as top 1\n"
     ]
    },
    {
     "data": {
      "application/vnd.jupyter.widget-view+json": {
       "model_id": "76c2ed4e4e0e4441ab6fd6a583273e31",
       "version_major": 2,
       "version_minor": 0
      },
      "text/plain": [
       "Validation: 0it [00:00, ?it/s]"
      ]
     },
     "metadata": {},
     "output_type": "display_data"
    },
    {
     "name": "stderr",
     "output_type": "stream",
     "text": [
      "Metric val/accuracy improved by 0.022 >= min_delta = 0.0. New best score: 93.125\n",
      "Epoch 13, global step 1106: 'val/accuracy' reached 93.12550 (best 93.12550), saving model to '/home/anhtranthe/workspace/3_pytorch/saved/checkpoints/epoch=13-step=1106.ckpt' as top 1\n"
     ]
    },
    {
     "data": {
      "application/vnd.jupyter.widget-view+json": {
       "model_id": "2de7e99705fa4af5aa961cd568632fc5",
       "version_major": 2,
       "version_minor": 0
      },
      "text/plain": [
       "Validation: 0it [00:00, ?it/s]"
      ]
     },
     "metadata": {},
     "output_type": "display_data"
    },
    {
     "name": "stderr",
     "output_type": "stream",
     "text": [
      "Epoch 14, global step 1185: 'val/accuracy' was not in top 1\n"
     ]
    },
    {
     "data": {
      "application/vnd.jupyter.widget-view+json": {
       "model_id": "a0bf58a90def46caabd9cc29d6936f83",
       "version_major": 2,
       "version_minor": 0
      },
      "text/plain": [
       "Validation: 0it [00:00, ?it/s]"
      ]
     },
     "metadata": {},
     "output_type": "display_data"
    },
    {
     "name": "stderr",
     "output_type": "stream",
     "text": [
      "Metric val/accuracy improved by 0.016 >= min_delta = 0.0. New best score: 93.141\n",
      "Epoch 15, global step 1264: 'val/accuracy' reached 93.14143 (best 93.14143), saving model to '/home/anhtranthe/workspace/3_pytorch/saved/checkpoints/epoch=15-step=1264.ckpt' as top 1\n"
     ]
    },
    {
     "data": {
      "application/vnd.jupyter.widget-view+json": {
       "model_id": "d1105dd444c7428bbde65bd30d952d74",
       "version_major": 2,
       "version_minor": 0
      },
      "text/plain": [
       "Validation: 0it [00:00, ?it/s]"
      ]
     },
     "metadata": {},
     "output_type": "display_data"
    },
    {
     "name": "stderr",
     "output_type": "stream",
     "text": [
      "Metric val/accuracy improved by 0.052 >= min_delta = 0.0. New best score: 93.193\n",
      "Epoch 16, global step 1343: 'val/accuracy' reached 93.19323 (best 93.19323), saving model to '/home/anhtranthe/workspace/3_pytorch/saved/checkpoints/epoch=16-step=1343.ckpt' as top 1\n"
     ]
    },
    {
     "data": {
      "application/vnd.jupyter.widget-view+json": {
       "model_id": "1e81dc66fcd741cbba104fa0fe2a429c",
       "version_major": 2,
       "version_minor": 0
      },
      "text/plain": [
       "Validation: 0it [00:00, ?it/s]"
      ]
     },
     "metadata": {},
     "output_type": "display_data"
    },
    {
     "name": "stderr",
     "output_type": "stream",
     "text": [
      "Epoch 17, global step 1422: 'val/accuracy' was not in top 1\n"
     ]
    },
    {
     "data": {
      "application/vnd.jupyter.widget-view+json": {
       "model_id": "06f16bcff7364e5d9053a66bc2895156",
       "version_major": 2,
       "version_minor": 0
      },
      "text/plain": [
       "Validation: 0it [00:00, ?it/s]"
      ]
     },
     "metadata": {},
     "output_type": "display_data"
    },
    {
     "name": "stderr",
     "output_type": "stream",
     "text": [
      "Epoch 18, global step 1501: 'val/accuracy' was not in top 1\n"
     ]
    },
    {
     "data": {
      "application/vnd.jupyter.widget-view+json": {
       "model_id": "e902ee3cba15480fa338e156cbea7d4b",
       "version_major": 2,
       "version_minor": 0
      },
      "text/plain": [
       "Validation: 0it [00:00, ?it/s]"
      ]
     },
     "metadata": {},
     "output_type": "display_data"
    },
    {
     "name": "stderr",
     "output_type": "stream",
     "text": [
      "Metric val/accuracy improved by 0.016 >= min_delta = 0.0. New best score: 93.209\n",
      "Epoch 19, global step 1580: 'val/accuracy' reached 93.20916 (best 93.20916), saving model to '/home/anhtranthe/workspace/3_pytorch/saved/checkpoints/epoch=19-step=1580.ckpt' as top 1\n"
     ]
    },
    {
     "data": {
      "application/vnd.jupyter.widget-view+json": {
       "model_id": "f249ae8d11fa4d5c8d852f386f95d01c",
       "version_major": 2,
       "version_minor": 0
      },
      "text/plain": [
       "Validation: 0it [00:00, ?it/s]"
      ]
     },
     "metadata": {},
     "output_type": "display_data"
    },
    {
     "name": "stderr",
     "output_type": "stream",
     "text": [
      "Epoch 20, global step 1659: 'val/accuracy' was not in top 1\n"
     ]
    },
    {
     "data": {
      "application/vnd.jupyter.widget-view+json": {
       "model_id": "789520e32050413787bc0e2a8db244f4",
       "version_major": 2,
       "version_minor": 0
      },
      "text/plain": [
       "Validation: 0it [00:00, ?it/s]"
      ]
     },
     "metadata": {},
     "output_type": "display_data"
    },
    {
     "name": "stderr",
     "output_type": "stream",
     "text": [
      "Metric val/accuracy improved by 0.016 >= min_delta = 0.0. New best score: 93.225\n",
      "Epoch 21, global step 1738: 'val/accuracy' reached 93.22510 (best 93.22510), saving model to '/home/anhtranthe/workspace/3_pytorch/saved/checkpoints/epoch=21-step=1738.ckpt' as top 1\n"
     ]
    },
    {
     "data": {
      "application/vnd.jupyter.widget-view+json": {
       "model_id": "7e35fbdd19be40eaa7f2b510e422e8fb",
       "version_major": 2,
       "version_minor": 0
      },
      "text/plain": [
       "Validation: 0it [00:00, ?it/s]"
      ]
     },
     "metadata": {},
     "output_type": "display_data"
    },
    {
     "name": "stderr",
     "output_type": "stream",
     "text": [
      "Metric val/accuracy improved by 0.006 >= min_delta = 0.0. New best score: 93.231\n",
      "Epoch 22, global step 1817: 'val/accuracy' reached 93.23108 (best 93.23108), saving model to '/home/anhtranthe/workspace/3_pytorch/saved/checkpoints/epoch=22-step=1817.ckpt' as top 1\n"
     ]
    },
    {
     "data": {
      "application/vnd.jupyter.widget-view+json": {
       "model_id": "b4191cb7023842ef97eacecac9c2fa1d",
       "version_major": 2,
       "version_minor": 0
      },
      "text/plain": [
       "Validation: 0it [00:00, ?it/s]"
      ]
     },
     "metadata": {},
     "output_type": "display_data"
    },
    {
     "name": "stderr",
     "output_type": "stream",
     "text": [
      "Epoch 23, global step 1896: 'val/accuracy' was not in top 1\n"
     ]
    },
    {
     "data": {
      "application/vnd.jupyter.widget-view+json": {
       "model_id": "768440c8de1348f191736fd8994df828",
       "version_major": 2,
       "version_minor": 0
      },
      "text/plain": [
       "Validation: 0it [00:00, ?it/s]"
      ]
     },
     "metadata": {},
     "output_type": "display_data"
    },
    {
     "name": "stderr",
     "output_type": "stream",
     "text": [
      "Epoch 24, global step 1975: 'val/accuracy' was not in top 1\n"
     ]
    },
    {
     "data": {
      "application/vnd.jupyter.widget-view+json": {
       "model_id": "817e60b7caf344b68c2cd78a689242d3",
       "version_major": 2,
       "version_minor": 0
      },
      "text/plain": [
       "Validation: 0it [00:00, ?it/s]"
      ]
     },
     "metadata": {},
     "output_type": "display_data"
    },
    {
     "name": "stderr",
     "output_type": "stream",
     "text": [
      "Epoch 25, global step 2054: 'val/accuracy' was not in top 1\n"
     ]
    },
    {
     "data": {
      "application/vnd.jupyter.widget-view+json": {
       "model_id": "06d6aaaa55494678960bd61897d42c71",
       "version_major": 2,
       "version_minor": 0
      },
      "text/plain": [
       "Validation: 0it [00:00, ?it/s]"
      ]
     },
     "metadata": {},
     "output_type": "display_data"
    },
    {
     "name": "stderr",
     "output_type": "stream",
     "text": [
      "Epoch 26, global step 2133: 'val/accuracy' was not in top 1\n"
     ]
    },
    {
     "data": {
      "application/vnd.jupyter.widget-view+json": {
       "model_id": "0ccba6e3719d400d800699461092da2a",
       "version_major": 2,
       "version_minor": 0
      },
      "text/plain": [
       "Validation: 0it [00:00, ?it/s]"
      ]
     },
     "metadata": {},
     "output_type": "display_data"
    },
    {
     "name": "stderr",
     "output_type": "stream",
     "text": [
      "Epoch 27, global step 2212: 'val/accuracy' was not in top 1\n"
     ]
    },
    {
     "data": {
      "application/vnd.jupyter.widget-view+json": {
       "model_id": "18774d4219e64422a01061509d20eff6",
       "version_major": 2,
       "version_minor": 0
      },
      "text/plain": [
       "Validation: 0it [00:00, ?it/s]"
      ]
     },
     "metadata": {},
     "output_type": "display_data"
    },
    {
     "name": "stderr",
     "output_type": "stream",
     "text": [
      "Epoch 28, global step 2291: 'val/accuracy' was not in top 1\n"
     ]
    },
    {
     "data": {
      "application/vnd.jupyter.widget-view+json": {
       "model_id": "dadffea91789463cb39c0d637a30425e",
       "version_major": 2,
       "version_minor": 0
      },
      "text/plain": [
       "Validation: 0it [00:00, ?it/s]"
      ]
     },
     "metadata": {},
     "output_type": "display_data"
    },
    {
     "name": "stderr",
     "output_type": "stream",
     "text": [
      "Epoch 29, global step 2370: 'val/accuracy' was not in top 1\n"
     ]
    },
    {
     "data": {
      "application/vnd.jupyter.widget-view+json": {
       "model_id": "03d1a00530d44708954cc9b4a361eba2",
       "version_major": 2,
       "version_minor": 0
      },
      "text/plain": [
       "Validation: 0it [00:00, ?it/s]"
      ]
     },
     "metadata": {},
     "output_type": "display_data"
    },
    {
     "name": "stderr",
     "output_type": "stream",
     "text": [
      "Epoch 30, global step 2449: 'val/accuracy' was not in top 1\n"
     ]
    },
    {
     "data": {
      "application/vnd.jupyter.widget-view+json": {
       "model_id": "aa5dc5f1a2e94cb7b8cd4db727727d01",
       "version_major": 2,
       "version_minor": 0
      },
      "text/plain": [
       "Validation: 0it [00:00, ?it/s]"
      ]
     },
     "metadata": {},
     "output_type": "display_data"
    },
    {
     "name": "stderr",
     "output_type": "stream",
     "text": [
      "Metric val/accuracy improved by 0.012 >= min_delta = 0.0. New best score: 93.243\n",
      "Epoch 31, global step 2528: 'val/accuracy' reached 93.24303 (best 93.24303), saving model to '/home/anhtranthe/workspace/3_pytorch/saved/checkpoints/epoch=31-step=2528.ckpt' as top 1\n"
     ]
    },
    {
     "data": {
      "application/vnd.jupyter.widget-view+json": {
       "model_id": "07c7152ca12f4823a96d14d6b23e82c1",
       "version_major": 2,
       "version_minor": 0
      },
      "text/plain": [
       "Validation: 0it [00:00, ?it/s]"
      ]
     },
     "metadata": {},
     "output_type": "display_data"
    },
    {
     "name": "stderr",
     "output_type": "stream",
     "text": [
      "Epoch 32, global step 2607: 'val/accuracy' was not in top 1\n"
     ]
    },
    {
     "data": {
      "application/vnd.jupyter.widget-view+json": {
       "model_id": "d08b68936dcd459a8a4f0e30c598a585",
       "version_major": 2,
       "version_minor": 0
      },
      "text/plain": [
       "Validation: 0it [00:00, ?it/s]"
      ]
     },
     "metadata": {},
     "output_type": "display_data"
    },
    {
     "name": "stderr",
     "output_type": "stream",
     "text": [
      "Epoch 33, global step 2686: 'val/accuracy' was not in top 1\n"
     ]
    },
    {
     "data": {
      "application/vnd.jupyter.widget-view+json": {
       "model_id": "7251912c5bb34fd6a7c2f010157fe274",
       "version_major": 2,
       "version_minor": 0
      },
      "text/plain": [
       "Validation: 0it [00:00, ?it/s]"
      ]
     },
     "metadata": {},
     "output_type": "display_data"
    },
    {
     "name": "stderr",
     "output_type": "stream",
     "text": [
      "Epoch 34, global step 2765: 'val/accuracy' was not in top 1\n"
     ]
    },
    {
     "data": {
      "application/vnd.jupyter.widget-view+json": {
       "model_id": "5bcbbbe9f41d4da9a6d78f08f7d91a45",
       "version_major": 2,
       "version_minor": 0
      },
      "text/plain": [
       "Validation: 0it [00:00, ?it/s]"
      ]
     },
     "metadata": {},
     "output_type": "display_data"
    },
    {
     "name": "stderr",
     "output_type": "stream",
     "text": [
      "Epoch 35, global step 2844: 'val/accuracy' was not in top 1\n"
     ]
    },
    {
     "data": {
      "application/vnd.jupyter.widget-view+json": {
       "model_id": "56f984fe6aab4fd982a1c09908c52d6a",
       "version_major": 2,
       "version_minor": 0
      },
      "text/plain": [
       "Validation: 0it [00:00, ?it/s]"
      ]
     },
     "metadata": {},
     "output_type": "display_data"
    },
    {
     "name": "stderr",
     "output_type": "stream",
     "text": [
      "Epoch 36, global step 2923: 'val/accuracy' was not in top 1\n"
     ]
    },
    {
     "data": {
      "application/vnd.jupyter.widget-view+json": {
       "model_id": "750825c0897945dfb483ea07bde914f9",
       "version_major": 2,
       "version_minor": 0
      },
      "text/plain": [
       "Validation: 0it [00:00, ?it/s]"
      ]
     },
     "metadata": {},
     "output_type": "display_data"
    },
    {
     "name": "stderr",
     "output_type": "stream",
     "text": [
      "Epoch 37, global step 3002: 'val/accuracy' was not in top 1\n"
     ]
    },
    {
     "data": {
      "application/vnd.jupyter.widget-view+json": {
       "model_id": "46ae1d75f8e24db88ed43d0699604dd0",
       "version_major": 2,
       "version_minor": 0
      },
      "text/plain": [
       "Validation: 0it [00:00, ?it/s]"
      ]
     },
     "metadata": {},
     "output_type": "display_data"
    },
    {
     "name": "stderr",
     "output_type": "stream",
     "text": [
      "Epoch 38, global step 3081: 'val/accuracy' was not in top 1\n"
     ]
    },
    {
     "data": {
      "application/vnd.jupyter.widget-view+json": {
       "model_id": "c32bf6ac085046c4af82153873bc8656",
       "version_major": 2,
       "version_minor": 0
      },
      "text/plain": [
       "Validation: 0it [00:00, ?it/s]"
      ]
     },
     "metadata": {},
     "output_type": "display_data"
    },
    {
     "name": "stderr",
     "output_type": "stream",
     "text": [
      "Epoch 39, global step 3160: 'val/accuracy' was not in top 1\n"
     ]
    },
    {
     "data": {
      "application/vnd.jupyter.widget-view+json": {
       "model_id": "a37bb6b0aa924344aef71b874b2ee13d",
       "version_major": 2,
       "version_minor": 0
      },
      "text/plain": [
       "Validation: 0it [00:00, ?it/s]"
      ]
     },
     "metadata": {},
     "output_type": "display_data"
    },
    {
     "name": "stderr",
     "output_type": "stream",
     "text": [
      "Epoch 40, global step 3239: 'val/accuracy' was not in top 1\n"
     ]
    },
    {
     "data": {
      "application/vnd.jupyter.widget-view+json": {
       "model_id": "ff2ed0843a5145b9b5d21fe65351ca79",
       "version_major": 2,
       "version_minor": 0
      },
      "text/plain": [
       "Validation: 0it [00:00, ?it/s]"
      ]
     },
     "metadata": {},
     "output_type": "display_data"
    },
    {
     "name": "stderr",
     "output_type": "stream",
     "text": [
      "Monitored metric val/accuracy did not improve in the last 10 records. Best score: 93.243. Signaling Trainer to stop.\n",
      "Epoch 41, global step 3318: 'val/accuracy' was not in top 1\n"
     ]
    }
   ],
   "source": [
    "trainer = pl.Trainer(\n",
    "    gpus=[1],\n",
    "    max_epochs=num_epochs,\n",
    "    logger=logger,\n",
    "    fast_dev_run=False,\n",
    "    log_every_n_steps=1,\n",
    "    callbacks=[MyLoggingCallback(), MyVisualizationCallback()]\n",
    ")\n",
    "\n",
    "trainer.fit(model, data_module)"
   ]
  },
  {
   "cell_type": "code",
   "execution_count": 17,
   "metadata": {},
   "outputs": [
    {
     "name": "stderr",
     "output_type": "stream",
     "text": [
      "The following callbacks returned in `LightningModule.configure_callbacks` will override existing callbacks passed to Trainer: EarlyStopping, ModelCheckpoint\n"
     ]
    },
    {
     "name": "stdout",
     "output_type": "stream",
     "text": [
      "---------- LOAD DATA ----------\n",
      "Loading training set\n",
      "----------\n",
      "Loading validate set\n",
      "----------\n",
      "Loading test set\n",
      "----------\n"
     ]
    },
    {
     "name": "stderr",
     "output_type": "stream",
     "text": [
      "LOCAL_RANK: 0 - CUDA_VISIBLE_DEVICES: [0,1,2,3]\n"
     ]
    },
    {
     "name": "stdout",
     "output_type": "stream",
     "text": [
      "Number of labels:  20\n"
     ]
    },
    {
     "data": {
      "application/vnd.jupyter.widget-view+json": {
       "model_id": "6e3218637a024cf692c82b28763ebfba",
       "version_major": 2,
       "version_minor": 0
      },
      "text/plain": [
       "Testing: 0it [00:00, ?it/s]"
      ]
     },
     "metadata": {},
     "output_type": "display_data"
    },
    {
     "name": "stdout",
     "output_type": "stream",
     "text": [
      "────────────────────────────────────────────────────────────────────────────────────────────────────────────────────────\n",
      "       Test metric             DataLoader 0\n",
      "────────────────────────────────────────────────────────────────────────────────────────────────────────────────────────\n",
      "      test/accuracy          93.37136840820312\n",
      "        test/loss           0.21799778938293457\n",
      "────────────────────────────────────────────────────────────────────────────────────────────────────────────────────────\n"
     ]
    },
    {
     "data": {
      "text/plain": [
       "[{'test/loss': 0.21799778938293457, 'test/accuracy': 93.37136840820312}]"
      ]
     },
     "execution_count": 17,
     "metadata": {},
     "output_type": "execute_result"
    }
   ],
   "source": [
    "trainer.test(model, data_module)"
   ]
  },
  {
   "cell_type": "markdown",
   "metadata": {},
   "source": [
    "### 5. Tensorboard"
   ]
  },
  {
   "cell_type": "code",
   "execution_count": null,
   "metadata": {},
   "outputs": [],
   "source": [
    "! tensorboard --logdir=runs/lightning"
   ]
  }
 ],
 "metadata": {
  "interpreter": {
   "hash": "f0be16cb575c0eb174601e1e4359c5c10a10cf177e876ea17ce1f1c4922925f5"
  },
  "kernelspec": {
   "display_name": "Python 3.8.0 ('py38')",
   "language": "python",
   "name": "python3"
  },
  "language_info": {
   "codemirror_mode": {
    "name": "ipython",
    "version": 3
   },
   "file_extension": ".py",
   "mimetype": "text/x-python",
   "name": "python",
   "nbconvert_exporter": "python",
   "pygments_lexer": "ipython3",
   "version": "3.8.0"
  },
  "orig_nbformat": 4
 },
 "nbformat": 4,
 "nbformat_minor": 2
}
